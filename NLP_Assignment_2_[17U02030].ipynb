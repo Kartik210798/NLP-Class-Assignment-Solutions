{
  "nbformat": 4,
  "nbformat_minor": 0,
  "metadata": {
    "colab": {
      "name": "NLP Assignment-2   [17U02030].ipynb",
      "provenance": [],
      "collapsed_sections": []
    },
    "kernelspec": {
      "name": "python3",
      "display_name": "Python 3"
    },
    "accelerator": "TPU"
  },
  "cells": [
    {
      "cell_type": "markdown",
      "metadata": {
        "id": "j4OOebBuPEnE",
        "colab_type": "text"
      },
      "source": [
        "# **Natural Language Processing**\n",
        "# Assignment 2\n",
        "\n",
        "*   **Submitted By**: Kartik Gautam\n",
        "*   **Branch**: CSE"
      ]
    },
    {
      "cell_type": "code",
      "metadata": {
        "id": "VMBHlLGGLDAq",
        "colab_type": "code",
        "colab": {
          "base_uri": "https://localhost:8080/",
          "height": 850
        },
        "outputId": "17931600-4503-493b-8fef-4e1dcfbd15e0"
      },
      "source": [
        "import nltk\n",
        "nltk.download(\"popular\")"
      ],
      "execution_count": 41,
      "outputs": [
        {
          "output_type": "stream",
          "text": [
            "[nltk_data] Downloading collection 'popular'\n",
            "[nltk_data]    | \n",
            "[nltk_data]    | Downloading package cmudict to /root/nltk_data...\n",
            "[nltk_data]    |   Package cmudict is already up-to-date!\n",
            "[nltk_data]    | Downloading package gazetteers to /root/nltk_data...\n",
            "[nltk_data]    |   Package gazetteers is already up-to-date!\n",
            "[nltk_data]    | Downloading package genesis to /root/nltk_data...\n",
            "[nltk_data]    |   Package genesis is already up-to-date!\n",
            "[nltk_data]    | Downloading package gutenberg to /root/nltk_data...\n",
            "[nltk_data]    |   Package gutenberg is already up-to-date!\n",
            "[nltk_data]    | Downloading package inaugural to /root/nltk_data...\n",
            "[nltk_data]    |   Package inaugural is already up-to-date!\n",
            "[nltk_data]    | Downloading package movie_reviews to\n",
            "[nltk_data]    |     /root/nltk_data...\n",
            "[nltk_data]    |   Package movie_reviews is already up-to-date!\n",
            "[nltk_data]    | Downloading package names to /root/nltk_data...\n",
            "[nltk_data]    |   Package names is already up-to-date!\n",
            "[nltk_data]    | Downloading package shakespeare to /root/nltk_data...\n",
            "[nltk_data]    |   Package shakespeare is already up-to-date!\n",
            "[nltk_data]    | Downloading package stopwords to /root/nltk_data...\n",
            "[nltk_data]    |   Package stopwords is already up-to-date!\n",
            "[nltk_data]    | Downloading package treebank to /root/nltk_data...\n",
            "[nltk_data]    |   Package treebank is already up-to-date!\n",
            "[nltk_data]    | Downloading package twitter_samples to\n",
            "[nltk_data]    |     /root/nltk_data...\n",
            "[nltk_data]    |   Package twitter_samples is already up-to-date!\n",
            "[nltk_data]    | Downloading package omw to /root/nltk_data...\n",
            "[nltk_data]    |   Package omw is already up-to-date!\n",
            "[nltk_data]    | Downloading package wordnet to /root/nltk_data...\n",
            "[nltk_data]    |   Package wordnet is already up-to-date!\n",
            "[nltk_data]    | Downloading package wordnet_ic to /root/nltk_data...\n",
            "[nltk_data]    |   Package wordnet_ic is already up-to-date!\n",
            "[nltk_data]    | Downloading package words to /root/nltk_data...\n",
            "[nltk_data]    |   Package words is already up-to-date!\n",
            "[nltk_data]    | Downloading package maxent_ne_chunker to\n",
            "[nltk_data]    |     /root/nltk_data...\n",
            "[nltk_data]    |   Package maxent_ne_chunker is already up-to-date!\n",
            "[nltk_data]    | Downloading package punkt to /root/nltk_data...\n",
            "[nltk_data]    |   Package punkt is already up-to-date!\n",
            "[nltk_data]    | Downloading package snowball_data to\n",
            "[nltk_data]    |     /root/nltk_data...\n",
            "[nltk_data]    |   Package snowball_data is already up-to-date!\n",
            "[nltk_data]    | Downloading package averaged_perceptron_tagger to\n",
            "[nltk_data]    |     /root/nltk_data...\n",
            "[nltk_data]    |   Package averaged_perceptron_tagger is already up-\n",
            "[nltk_data]    |       to-date!\n",
            "[nltk_data]    | \n",
            "[nltk_data]  Done downloading collection popular\n"
          ],
          "name": "stdout"
        },
        {
          "output_type": "execute_result",
          "data": {
            "text/plain": [
              "True"
            ]
          },
          "metadata": {
            "tags": []
          },
          "execution_count": 41
        }
      ]
    },
    {
      "cell_type": "code",
      "metadata": {
        "id": "V7FEiBk0LVA2",
        "colab_type": "code",
        "colab": {}
      },
      "source": [
        "paragraph=\"Bhimrao Ramji Ambedkar (14 April 1891 – 6 December 1956), also known as Babasaheb Ambedkar, was an Indian jurist, economist, politician and social reformer, who inspired the Dalit Buddhist movement and campaigned against social discrimination towards the untouchables (Dalits). He was independent India's first Minister of Law and Justice, and the chief architect of the Constitution of India.\""
      ],
      "execution_count": 42,
      "outputs": []
    },
    {
      "cell_type": "markdown",
      "metadata": {
        "id": "Pjf9YDFWL0fj",
        "colab_type": "text"
      },
      "source": [
        "**WORD TOKENIZER**\n",
        "\n",
        "\n"
      ]
    },
    {
      "cell_type": "code",
      "metadata": {
        "id": "hF1_15JRLwvd",
        "colab_type": "code",
        "colab": {
          "base_uri": "https://localhost:8080/",
          "height": 54
        },
        "outputId": "88020d15-7948-46d2-ddeb-6cfc2a97abc1"
      },
      "source": [
        "from nltk import word_tokenize\n",
        "print(word_tokenize(paragraph))"
      ],
      "execution_count": 43,
      "outputs": [
        {
          "output_type": "stream",
          "text": [
            "['Bhimrao', 'Ramji', 'Ambedkar', '(', '14', 'April', '1891', '–', '6', 'December', '1956', ')', ',', 'also', 'known', 'as', 'Babasaheb', 'Ambedkar', ',', 'was', 'an', 'Indian', 'jurist', ',', 'economist', ',', 'politician', 'and', 'social', 'reformer', ',', 'who', 'inspired', 'the', 'Dalit', 'Buddhist', 'movement', 'and', 'campaigned', 'against', 'social', 'discrimination', 'towards', 'the', 'untouchables', '(', 'Dalits', ')', '.', 'He', 'was', 'independent', 'India', \"'s\", 'first', 'Minister', 'of', 'Law', 'and', 'Justice', ',', 'and', 'the', 'chief', 'architect', 'of', 'the', 'Constitution', 'of', 'India', '.']\n"
          ],
          "name": "stdout"
        }
      ]
    },
    {
      "cell_type": "markdown",
      "metadata": {
        "id": "wdJ5fXnZMLBr",
        "colab_type": "text"
      },
      "source": [
        "**SENTENCE TOKENIZER**"
      ]
    },
    {
      "cell_type": "code",
      "metadata": {
        "id": "i4o6R3qhMHKa",
        "colab_type": "code",
        "colab": {
          "base_uri": "https://localhost:8080/",
          "height": 54
        },
        "outputId": "da1f33c2-d1ad-4fbc-d909-63e03e76f0d6"
      },
      "source": [
        "from nltk.tokenize import sent_tokenize\n",
        "print(sent_tokenize(paragraph))"
      ],
      "execution_count": 44,
      "outputs": [
        {
          "output_type": "stream",
          "text": [
            "['Bhimrao Ramji Ambedkar (14 April 1891 – 6 December 1956), also known as Babasaheb Ambedkar, was an Indian jurist, economist, politician and social reformer, who inspired the Dalit Buddhist movement and campaigned against social discrimination towards the untouchables (Dalits).', \"He was independent India's first Minister of Law and Justice, and the chief architect of the Constitution of India.\"]\n"
          ],
          "name": "stdout"
        }
      ]
    },
    {
      "cell_type": "markdown",
      "metadata": {
        "id": "SNYcoRdzMjAq",
        "colab_type": "text"
      },
      "source": [
        "**TREE BANK TOKENIZER**"
      ]
    },
    {
      "cell_type": "code",
      "metadata": {
        "id": "gMs2fkNMMgqz",
        "colab_type": "code",
        "colab": {
          "base_uri": "https://localhost:8080/",
          "height": 54
        },
        "outputId": "d3c809fa-7516-485d-802e-b2374de46f71"
      },
      "source": [
        "from nltk.tokenize import TreebankWordTokenizer \n",
        "  \n",
        "tokenizer = TreebankWordTokenizer() \n",
        "print(tokenizer.tokenize(paragraph))"
      ],
      "execution_count": 45,
      "outputs": [
        {
          "output_type": "stream",
          "text": [
            "['Bhimrao', 'Ramji', 'Ambedkar', '(', '14', 'April', '1891', '–', '6', 'December', '1956', ')', ',', 'also', 'known', 'as', 'Babasaheb', 'Ambedkar', ',', 'was', 'an', 'Indian', 'jurist', ',', 'economist', ',', 'politician', 'and', 'social', 'reformer', ',', 'who', 'inspired', 'the', 'Dalit', 'Buddhist', 'movement', 'and', 'campaigned', 'against', 'social', 'discrimination', 'towards', 'the', 'untouchables', '(', 'Dalits', ')', '.', 'He', 'was', 'independent', 'India', \"'s\", 'first', 'Minister', 'of', 'Law', 'and', 'Justice', ',', 'and', 'the', 'chief', 'architect', 'of', 'the', 'Constitution', 'of', 'India', '.']\n"
          ],
          "name": "stdout"
        }
      ]
    },
    {
      "cell_type": "markdown",
      "metadata": {
        "id": "o725ZRExMqHi",
        "colab_type": "text"
      },
      "source": [
        "**REGULAR EXPRESSION TOKENIZER**\n",
        "\n"
      ]
    },
    {
      "cell_type": "code",
      "metadata": {
        "id": "Fcf_pqOeMtOE",
        "colab_type": "code",
        "colab": {
          "base_uri": "https://localhost:8080/",
          "height": 187
        },
        "outputId": "b7d1fa25-953f-43ac-bc2e-c6782b74de69"
      },
      "source": [
        "from nltk.tokenize import RegexpTokenizer \n",
        "  \n",
        "tokenizer = RegexpTokenizer(\"[\\w']+\") \n",
        "text = \"Any serious shift towards sustainable society has to include equality.\"\n",
        "tokenizer.tokenize(text)"
      ],
      "execution_count": 46,
      "outputs": [
        {
          "output_type": "execute_result",
          "data": {
            "text/plain": [
              "['Any',\n",
              " 'serious',\n",
              " 'shift',\n",
              " 'towards',\n",
              " 'sustainable',\n",
              " 'society',\n",
              " 'has',\n",
              " 'to',\n",
              " 'include',\n",
              " 'equality']"
            ]
          },
          "metadata": {
            "tags": []
          },
          "execution_count": 46
        }
      ]
    },
    {
      "cell_type": "markdown",
      "metadata": {
        "id": "cB5ZUqolNng8",
        "colab_type": "text"
      },
      "source": [
        "**Space Tokenizer**\n",
        "\n"
      ]
    },
    {
      "cell_type": "code",
      "metadata": {
        "id": "Yzk--Y2GNql8",
        "colab_type": "code",
        "colab": {
          "base_uri": "https://localhost:8080/",
          "height": 54
        },
        "outputId": "42a429f7-2b3d-47ab-9740-bd38bc8415ae"
      },
      "source": [
        "from nltk import SpaceTokenizer\n",
        "\n",
        "print(SpaceTokenizer().tokenize(paragraph))"
      ],
      "execution_count": 47,
      "outputs": [
        {
          "output_type": "stream",
          "text": [
            "['Bhimrao', 'Ramji', 'Ambedkar', '(14', 'April', '1891', '–', '6', 'December', '1956),', 'also', 'known', 'as', 'Babasaheb', 'Ambedkar,', 'was', 'an', 'Indian', 'jurist,', 'economist,', 'politician', 'and', 'social', 'reformer,', 'who', 'inspired', 'the', 'Dalit', 'Buddhist', 'movement', 'and', 'campaigned', 'against', 'social', 'discrimination', 'towards', 'the', 'untouchables', '(Dalits).', 'He', 'was', 'independent', \"India's\", 'first', 'Minister', 'of', 'Law', 'and', 'Justice,', 'and', 'the', 'chief', 'architect', 'of', 'the', 'Constitution', 'of', 'India.']\n"
          ],
          "name": "stdout"
        }
      ]
    },
    {
      "cell_type": "markdown",
      "metadata": {
        "id": "sBxET3ulNurl",
        "colab_type": "text"
      },
      "source": [
        "**STOP WORDS REMOVAL**"
      ]
    },
    {
      "cell_type": "code",
      "metadata": {
        "id": "7HF6ROKBNyG0",
        "colab_type": "code",
        "colab": {
          "base_uri": "https://localhost:8080/",
          "height": 71
        },
        "outputId": "e68d2c0d-86b3-408c-91d1-a0f417aaf446"
      },
      "source": [
        "from nltk.corpus import stopwords\n",
        "from nltk.tokenize import word_tokenize\n",
        "\n",
        "example_sent = \"Upon India's independence on 15 August 1947, the new Congress-led government invited Ambedkar to serve as the nation's first Law Minister, which he accepted. On 29 August, he was appointed Chairman of the Constitution Drafting Committee, and was appointed by the Assembly to write India's new Constitution. Granville Austin described the Indian Constitution drafted by Ambedkar as 'first and foremost a social document'. 'The majority of India's constitutional provisions are either directly arrived at furthering the aim of social revolution or attempt to foster this revolution by establishing conditions necessary for its achievement.\"\n",
        "stop_words = set(stopwords.words('english'))\n",
        "\n",
        "word_tokens = word_tokenize(example_sent)\n",
        "\n",
        "filtered_sentence = [w for w in word_tokens if not w in stop_words]\n",
        "\n",
        "filtered_sentence = []\n",
        "\n",
        "for w in word_tokens:\n",
        "    if w not in stop_words:\n",
        "        filtered_sentence.append(w)\n",
        "\n",
        "print(\"With Stop Words:  \",word_tokens)\n",
        "print(\"Without Stop Words:  \",filtered_sentence)"
      ],
      "execution_count": 48,
      "outputs": [
        {
          "output_type": "stream",
          "text": [
            "With Stop Words:   ['Upon', 'India', \"'s\", 'independence', 'on', '15', 'August', '1947', ',', 'the', 'new', 'Congress-led', 'government', 'invited', 'Ambedkar', 'to', 'serve', 'as', 'the', 'nation', \"'s\", 'first', 'Law', 'Minister', ',', 'which', 'he', 'accepted', '.', 'On', '29', 'August', ',', 'he', 'was', 'appointed', 'Chairman', 'of', 'the', 'Constitution', 'Drafting', 'Committee', ',', 'and', 'was', 'appointed', 'by', 'the', 'Assembly', 'to', 'write', 'India', \"'s\", 'new', 'Constitution', '.', 'Granville', 'Austin', 'described', 'the', 'Indian', 'Constitution', 'drafted', 'by', 'Ambedkar', 'as', \"'first\", 'and', 'foremost', 'a', 'social', 'document', \"'\", '.', \"'The\", 'majority', 'of', 'India', \"'s\", 'constitutional', 'provisions', 'are', 'either', 'directly', 'arrived', 'at', 'furthering', 'the', 'aim', 'of', 'social', 'revolution', 'or', 'attempt', 'to', 'foster', 'this', 'revolution', 'by', 'establishing', 'conditions', 'necessary', 'for', 'its', 'achievement', '.']\n",
            "Without Stop Words:   ['Upon', 'India', \"'s\", 'independence', '15', 'August', '1947', ',', 'new', 'Congress-led', 'government', 'invited', 'Ambedkar', 'serve', 'nation', \"'s\", 'first', 'Law', 'Minister', ',', 'accepted', '.', 'On', '29', 'August', ',', 'appointed', 'Chairman', 'Constitution', 'Drafting', 'Committee', ',', 'appointed', 'Assembly', 'write', 'India', \"'s\", 'new', 'Constitution', '.', 'Granville', 'Austin', 'described', 'Indian', 'Constitution', 'drafted', 'Ambedkar', \"'first\", 'foremost', 'social', 'document', \"'\", '.', \"'The\", 'majority', 'India', \"'s\", 'constitutional', 'provisions', 'either', 'directly', 'arrived', 'furthering', 'aim', 'social', 'revolution', 'attempt', 'foster', 'revolution', 'establishing', 'conditions', 'necessary', 'achievement', '.']\n"
          ],
          "name": "stdout"
        }
      ]
    },
    {
      "cell_type": "markdown",
      "metadata": {
        "id": "ZbXJgh-xOSPG",
        "colab_type": "text"
      },
      "source": [
        "**STEMMING**"
      ]
    },
    {
      "cell_type": "code",
      "metadata": {
        "id": "OzwW9U7NOW4M",
        "colab_type": "code",
        "colab": {
          "base_uri": "https://localhost:8080/",
          "height": 1000
        },
        "outputId": "1f7fcee4-f452-40fa-8d14-06cbb380b82e"
      },
      "source": [
        "import nltk\n",
        "from nltk.stem.porter import PorterStemmer\n",
        "porter_stemmer = PorterStemmer()\n",
        "nltk_tokens = nltk.word_tokenize(paragraph)\n",
        "for w in nltk_tokens:\n",
        "       print(\"Actual: %s  Stem: %s\"  % (w,porter_stemmer.stem(w)))"
      ],
      "execution_count": 49,
      "outputs": [
        {
          "output_type": "stream",
          "text": [
            "Actual: Bhimrao  Stem: bhimrao\n",
            "Actual: Ramji  Stem: ramji\n",
            "Actual: Ambedkar  Stem: ambedkar\n",
            "Actual: (  Stem: (\n",
            "Actual: 14  Stem: 14\n",
            "Actual: April  Stem: april\n",
            "Actual: 1891  Stem: 1891\n",
            "Actual: –  Stem: –\n",
            "Actual: 6  Stem: 6\n",
            "Actual: December  Stem: decemb\n",
            "Actual: 1956  Stem: 1956\n",
            "Actual: )  Stem: )\n",
            "Actual: ,  Stem: ,\n",
            "Actual: also  Stem: also\n",
            "Actual: known  Stem: known\n",
            "Actual: as  Stem: as\n",
            "Actual: Babasaheb  Stem: babasaheb\n",
            "Actual: Ambedkar  Stem: ambedkar\n",
            "Actual: ,  Stem: ,\n",
            "Actual: was  Stem: wa\n",
            "Actual: an  Stem: an\n",
            "Actual: Indian  Stem: indian\n",
            "Actual: jurist  Stem: jurist\n",
            "Actual: ,  Stem: ,\n",
            "Actual: economist  Stem: economist\n",
            "Actual: ,  Stem: ,\n",
            "Actual: politician  Stem: politician\n",
            "Actual: and  Stem: and\n",
            "Actual: social  Stem: social\n",
            "Actual: reformer  Stem: reform\n",
            "Actual: ,  Stem: ,\n",
            "Actual: who  Stem: who\n",
            "Actual: inspired  Stem: inspir\n",
            "Actual: the  Stem: the\n",
            "Actual: Dalit  Stem: dalit\n",
            "Actual: Buddhist  Stem: buddhist\n",
            "Actual: movement  Stem: movement\n",
            "Actual: and  Stem: and\n",
            "Actual: campaigned  Stem: campaign\n",
            "Actual: against  Stem: against\n",
            "Actual: social  Stem: social\n",
            "Actual: discrimination  Stem: discrimin\n",
            "Actual: towards  Stem: toward\n",
            "Actual: the  Stem: the\n",
            "Actual: untouchables  Stem: untouch\n",
            "Actual: (  Stem: (\n",
            "Actual: Dalits  Stem: dalit\n",
            "Actual: )  Stem: )\n",
            "Actual: .  Stem: .\n",
            "Actual: He  Stem: He\n",
            "Actual: was  Stem: wa\n",
            "Actual: independent  Stem: independ\n",
            "Actual: India  Stem: india\n",
            "Actual: 's  Stem: 's\n",
            "Actual: first  Stem: first\n",
            "Actual: Minister  Stem: minist\n",
            "Actual: of  Stem: of\n",
            "Actual: Law  Stem: law\n",
            "Actual: and  Stem: and\n",
            "Actual: Justice  Stem: justic\n",
            "Actual: ,  Stem: ,\n",
            "Actual: and  Stem: and\n",
            "Actual: the  Stem: the\n",
            "Actual: chief  Stem: chief\n",
            "Actual: architect  Stem: architect\n",
            "Actual: of  Stem: of\n",
            "Actual: the  Stem: the\n",
            "Actual: Constitution  Stem: constitut\n",
            "Actual: of  Stem: of\n",
            "Actual: India  Stem: india\n",
            "Actual: .  Stem: .\n"
          ],
          "name": "stdout"
        }
      ]
    },
    {
      "cell_type": "markdown",
      "metadata": {
        "id": "maK8hEG8OcNf",
        "colab_type": "text"
      },
      "source": [
        "**Lemmatization**"
      ]
    },
    {
      "cell_type": "code",
      "metadata": {
        "id": "RFep_fmQOe8M",
        "colab_type": "code",
        "colab": {
          "base_uri": "https://localhost:8080/",
          "height": 1000
        },
        "outputId": "ca732259-b0d9-45ad-cb08-f5aa69238df9"
      },
      "source": [
        "import nltk\n",
        "from nltk.stem import WordNetLemmatizer\n",
        "wordnet_lemmatizer = WordNetLemmatizer()\n",
        "nltk_tokens = nltk.word_tokenize(paragraph)\n",
        "for w in nltk_tokens:\n",
        "       print(\"Actual: %s --->  Lemma: %s\"  % (w,wordnet_lemmatizer.lemmatize(w)))"
      ],
      "execution_count": 50,
      "outputs": [
        {
          "output_type": "stream",
          "text": [
            "Actual: Bhimrao --->  Lemma: Bhimrao\n",
            "Actual: Ramji --->  Lemma: Ramji\n",
            "Actual: Ambedkar --->  Lemma: Ambedkar\n",
            "Actual: ( --->  Lemma: (\n",
            "Actual: 14 --->  Lemma: 14\n",
            "Actual: April --->  Lemma: April\n",
            "Actual: 1891 --->  Lemma: 1891\n",
            "Actual: – --->  Lemma: –\n",
            "Actual: 6 --->  Lemma: 6\n",
            "Actual: December --->  Lemma: December\n",
            "Actual: 1956 --->  Lemma: 1956\n",
            "Actual: ) --->  Lemma: )\n",
            "Actual: , --->  Lemma: ,\n",
            "Actual: also --->  Lemma: also\n",
            "Actual: known --->  Lemma: known\n",
            "Actual: as --->  Lemma: a\n",
            "Actual: Babasaheb --->  Lemma: Babasaheb\n",
            "Actual: Ambedkar --->  Lemma: Ambedkar\n",
            "Actual: , --->  Lemma: ,\n",
            "Actual: was --->  Lemma: wa\n",
            "Actual: an --->  Lemma: an\n",
            "Actual: Indian --->  Lemma: Indian\n",
            "Actual: jurist --->  Lemma: jurist\n",
            "Actual: , --->  Lemma: ,\n",
            "Actual: economist --->  Lemma: economist\n",
            "Actual: , --->  Lemma: ,\n",
            "Actual: politician --->  Lemma: politician\n",
            "Actual: and --->  Lemma: and\n",
            "Actual: social --->  Lemma: social\n",
            "Actual: reformer --->  Lemma: reformer\n",
            "Actual: , --->  Lemma: ,\n",
            "Actual: who --->  Lemma: who\n",
            "Actual: inspired --->  Lemma: inspired\n",
            "Actual: the --->  Lemma: the\n",
            "Actual: Dalit --->  Lemma: Dalit\n",
            "Actual: Buddhist --->  Lemma: Buddhist\n",
            "Actual: movement --->  Lemma: movement\n",
            "Actual: and --->  Lemma: and\n",
            "Actual: campaigned --->  Lemma: campaigned\n",
            "Actual: against --->  Lemma: against\n",
            "Actual: social --->  Lemma: social\n",
            "Actual: discrimination --->  Lemma: discrimination\n",
            "Actual: towards --->  Lemma: towards\n",
            "Actual: the --->  Lemma: the\n",
            "Actual: untouchables --->  Lemma: untouchable\n",
            "Actual: ( --->  Lemma: (\n",
            "Actual: Dalits --->  Lemma: Dalits\n",
            "Actual: ) --->  Lemma: )\n",
            "Actual: . --->  Lemma: .\n",
            "Actual: He --->  Lemma: He\n",
            "Actual: was --->  Lemma: wa\n",
            "Actual: independent --->  Lemma: independent\n",
            "Actual: India --->  Lemma: India\n",
            "Actual: 's --->  Lemma: 's\n",
            "Actual: first --->  Lemma: first\n",
            "Actual: Minister --->  Lemma: Minister\n",
            "Actual: of --->  Lemma: of\n",
            "Actual: Law --->  Lemma: Law\n",
            "Actual: and --->  Lemma: and\n",
            "Actual: Justice --->  Lemma: Justice\n",
            "Actual: , --->  Lemma: ,\n",
            "Actual: and --->  Lemma: and\n",
            "Actual: the --->  Lemma: the\n",
            "Actual: chief --->  Lemma: chief\n",
            "Actual: architect --->  Lemma: architect\n",
            "Actual: of --->  Lemma: of\n",
            "Actual: the --->  Lemma: the\n",
            "Actual: Constitution --->  Lemma: Constitution\n",
            "Actual: of --->  Lemma: of\n",
            "Actual: India --->  Lemma: India\n",
            "Actual: . --->  Lemma: .\n"
          ],
          "name": "stdout"
        }
      ]
    },
    {
      "cell_type": "markdown",
      "metadata": {
        "id": "55aBeqH1PVxl",
        "colab_type": "text"
      },
      "source": [
        "*--End of File: Assignment 2; kkg--*"
      ]
    }
  ]
}